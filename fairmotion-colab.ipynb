{
  "nbformat": 4,
  "nbformat_minor": 0,
  "metadata": {
    "colab": {
      "provenance": [],
      "gpuType": "T4",
      "machine_shape": "hm"
    },
    "kernelspec": {
      "name": "python3",
      "display_name": "Python 3"
    },
    "language_info": {
      "name": "python"
    },
    "accelerator": "GPU"
  },
  "cells": [
    {
      "cell_type": "code",
      "source": [
        "from google.colab import drive\n",
        "drive.mount('/content/drive')"
      ],
      "metadata": {
        "colab": {
          "base_uri": "https://localhost:8080/"
        },
        "id": "RKQh8dWcwssR",
        "outputId": "0d3afa5b-7c22-4c4c-d700-3831d10bd5b0"
      },
      "execution_count": 1,
      "outputs": [
        {
          "output_type": "stream",
          "name": "stdout",
          "text": [
            "Drive already mounted at /content/drive; to attempt to forcibly remount, call drive.mount(\"/content/drive\", force_remount=True).\n"
          ]
        }
      ]
    },
    {
      "cell_type": "code",
      "source": [
        "!python --version"
      ],
      "metadata": {
        "colab": {
          "base_uri": "https://localhost:8080/"
        },
        "id": "EGnmU3jRCi_K",
        "outputId": "ac7a6fb2-9363-4a00-c6d3-8c61bdd1b313"
      },
      "execution_count": 2,
      "outputs": [
        {
          "output_type": "stream",
          "name": "stdout",
          "text": [
            "Python 3.10.12\n"
          ]
        }
      ]
    },
    {
      "cell_type": "code",
      "execution_count": 2,
      "metadata": {
        "colab": {
          "base_uri": "https://localhost:8080/"
        },
        "id": "UcIsiCwC9Nd3",
        "outputId": "813f4702-b6bb-4db6-a547-c030cd811b2b"
      },
      "outputs": [
        {
          "output_type": "stream",
          "name": "stdout",
          "text": [
            "Cloning into 'fairmotion'...\n",
            "remote: Enumerating objects: 769, done.\u001b[K\n",
            "remote: Counting objects: 100% (519/519), done.\u001b[K\n",
            "remote: Compressing objects: 100% (441/441), done.\u001b[K\n",
            "remote: Total 769 (delta 98), reused 401 (delta 74), pack-reused 250\u001b[K\n",
            "Receiving objects: 100% (769/769), 141.13 MiB | 23.91 MiB/s, done.\n",
            "Resolving deltas: 100% (243/243), done.\n"
          ]
        }
      ],
      "source": [
        "# ! git clone https://github.com/facebookresearch/fairmotion.git\n",
        "# ! rm -rf /content/fairmotion/\n",
        "! git clone https://github.com/iabdulhafiz/fairmotion.git"
      ]
    },
    {
      "cell_type": "code",
      "source": [
        "%cd /content/fairmotion/\n",
        "! ls -lrt"
      ],
      "metadata": {
        "colab": {
          "base_uri": "https://localhost:8080/"
        },
        "id": "HZ6a0vJ5_uNf",
        "outputId": "96220648-2b0c-43a6-c5d4-f59fa2674604"
      },
      "execution_count": 3,
      "outputs": [
        {
          "output_type": "stream",
          "name": "stdout",
          "text": [
            "/content/fairmotion\n",
            "total 36\n",
            "-rw-r--r-- 1 root root 1536 Dec 10 21:33 LICENSE\n",
            "-rw-r--r-- 1 root root 1448 Dec 10 21:33 CONTRIBUTING.md\n",
            "-rw-r--r-- 1 root root 3235 Dec 10 21:33 CODE_OF_CONDUCT.md\n",
            "-rw-r--r-- 1 root root   16 Dec 10 21:33 CHANGELOG.md\n",
            "-rw-r--r-- 1 root root 5366 Dec 10 21:33 README.md\n",
            "drwxr-xr-x 9 root root 4096 Dec 10 21:33 fairmotion\n",
            "-rw-r--r-- 1 root root 1172 Dec 10 21:33 setup.py\n",
            "drwxr-xr-x 3 root root 4096 Dec 10 21:33 tests\n"
          ]
        }
      ]
    },
    {
      "cell_type": "code",
      "source": [
        "# !cat setup.py\n",
        "!sed -i 's/torch==1.6.0/torch/g' setup.py\n",
        "!cat setup.py"
      ],
      "metadata": {
        "colab": {
          "base_uri": "https://localhost:8080/"
        },
        "id": "mq6r3ADP6_K-",
        "outputId": "9245b4d7-0612-4b06-b4fc-ac3c8b21c5d4"
      },
      "execution_count": 4,
      "outputs": [
        {
          "output_type": "stream",
          "name": "stdout",
          "text": [
            "# Copyright (c) Facebook, Inc. and its affiliates.\n",
            "\n",
            "from setuptools import find_packages, setup\n",
            "\n",
            "setup(\n",
            "    name=\"fairmotion\",\n",
            "    version=\"0.0.4\",\n",
            "    description=\"fairmotion is FAIR's library for human motion research\",\n",
            "    url=\"https://github.com/facebookresearch/fairmotion\",\n",
            "    author=\"FAIR Pittsburgh\",\n",
            "    author_email=\"dgopinath@fb.com\",\n",
            "    install_requires=[\n",
            "        \"black\",\n",
            "        \"dataclasses\",  # py3.6 backport required by human_body_prior\n",
            "        \"matplotlib\",\n",
            "        \"numpy\",\n",
            "        \"pillow\",\n",
            "        \"pyrender==0.1.39\",\n",
            "        \"scikit-learn\",\n",
            "        \"scipy\",\n",
            "        \"torch\",\n",
            "        \"tqdm\",\n",
            "        \"pyglet==1.5.27\",\n",
            "        \"PyOpenGL==3.1.0\",\n",
            "        \"PyOpenGL-accelerate\",\n",
            "        \"body_visualizer @ git+https://github.com/nghorbani/body_visualizer.git@be9cf756f8d1daed870d4c7ad1aa5cc3478a546c\",\n",
            "        \"human_body_prior @ git+https://github.com/nghorbani/human_body_prior.git@0278cb45180992e4d39ba1a11601f5ecc53ee148\",\n",
            "    ],\n",
            "    packages=find_packages(exclude=[\"tests\"]),\n",
            "    classifiers=[\n",
            "        \"License :: OSI Approved :: BSD License\",\n",
            "        \"Programming Language :: Python :: 3\",\n",
            "        \"Operating System :: OS Independent\",\n",
            "    ],\n",
            ")\n"
          ]
        }
      ]
    },
    {
      "cell_type": "code",
      "source": [
        "# no need to restart runtime\n",
        "! pip install -e ."
      ],
      "metadata": {
        "colab": {
          "base_uri": "https://localhost:8080/",
          "height": 1000
        },
        "id": "9EYMTDFNAWNL",
        "outputId": "fa6b6448-61e0-4549-bdf6-347c1ba03d04"
      },
      "execution_count": 5,
      "outputs": [
        {
          "output_type": "stream",
          "name": "stdout",
          "text": [
            "Obtaining file:///content/fairmotion\n",
            "  Preparing metadata (setup.py) ... \u001b[?25l\u001b[?25hdone\n",
            "Collecting body_visualizer@ git+https://github.com/nghorbani/body_visualizer.git@be9cf756f8d1daed870d4c7ad1aa5cc3478a546c (from fairmotion==0.0.4)\n",
            "  Cloning https://github.com/nghorbani/body_visualizer.git (to revision be9cf756f8d1daed870d4c7ad1aa5cc3478a546c) to /tmp/pip-install-dqhw3a9g/body-visualizer_0aad898128654c1d88a64e5459b26d7a\n",
            "  Running command git clone --filter=blob:none --quiet https://github.com/nghorbani/body_visualizer.git /tmp/pip-install-dqhw3a9g/body-visualizer_0aad898128654c1d88a64e5459b26d7a\n",
            "  Running command git rev-parse -q --verify 'sha^be9cf756f8d1daed870d4c7ad1aa5cc3478a546c'\n",
            "  Running command git fetch -q https://github.com/nghorbani/body_visualizer.git be9cf756f8d1daed870d4c7ad1aa5cc3478a546c\n",
            "  Running command git checkout -q be9cf756f8d1daed870d4c7ad1aa5cc3478a546c\n",
            "  Resolved https://github.com/nghorbani/body_visualizer.git to commit be9cf756f8d1daed870d4c7ad1aa5cc3478a546c\n",
            "  Preparing metadata (setup.py) ... \u001b[?25l\u001b[?25hdone\n",
            "Collecting human_body_prior@ git+https://github.com/nghorbani/human_body_prior.git@0278cb45180992e4d39ba1a11601f5ecc53ee148 (from fairmotion==0.0.4)\n",
            "  Cloning https://github.com/nghorbani/human_body_prior.git (to revision 0278cb45180992e4d39ba1a11601f5ecc53ee148) to /tmp/pip-install-dqhw3a9g/human-body-prior_473a2f9d0052484b93622e33c8f83285\n",
            "  Running command git clone --filter=blob:none --quiet https://github.com/nghorbani/human_body_prior.git /tmp/pip-install-dqhw3a9g/human-body-prior_473a2f9d0052484b93622e33c8f83285\n",
            "  Running command git rev-parse -q --verify 'sha^0278cb45180992e4d39ba1a11601f5ecc53ee148'\n",
            "  Running command git fetch -q https://github.com/nghorbani/human_body_prior.git 0278cb45180992e4d39ba1a11601f5ecc53ee148\n",
            "  Running command git checkout -q 0278cb45180992e4d39ba1a11601f5ecc53ee148\n",
            "  Resolved https://github.com/nghorbani/human_body_prior.git to commit 0278cb45180992e4d39ba1a11601f5ecc53ee148\n",
            "  Preparing metadata (setup.py) ... \u001b[?25l\u001b[?25hdone\n",
            "Collecting black (from fairmotion==0.0.4)\n",
            "  Downloading black-23.11.0-cp310-cp310-manylinux_2_17_x86_64.manylinux2014_x86_64.whl (1.7 MB)\n",
            "\u001b[2K     \u001b[90m━━━━━━━━━━━━━━━━━━━━━━━━━━━━━━━━━━━━━━━━\u001b[0m \u001b[32m1.7/1.7 MB\u001b[0m \u001b[31m17.5 MB/s\u001b[0m eta \u001b[36m0:00:00\u001b[0m\n",
            "\u001b[?25hCollecting dataclasses (from fairmotion==0.0.4)\n",
            "  Downloading dataclasses-0.6-py3-none-any.whl (14 kB)\n",
            "Requirement already satisfied: matplotlib in /usr/local/lib/python3.10/dist-packages (from fairmotion==0.0.4) (3.7.1)\n",
            "Requirement already satisfied: numpy in /usr/local/lib/python3.10/dist-packages (from fairmotion==0.0.4) (1.23.5)\n",
            "Requirement already satisfied: pillow in /usr/local/lib/python3.10/dist-packages (from fairmotion==0.0.4) (9.4.0)\n",
            "Collecting pyrender==0.1.39 (from fairmotion==0.0.4)\n",
            "  Downloading pyrender-0.1.39-py3-none-any.whl (1.2 MB)\n",
            "\u001b[2K     \u001b[90m━━━━━━━━━━━━━━━━━━━━━━━━━━━━━━━━━━━━━━━━\u001b[0m \u001b[32m1.2/1.2 MB\u001b[0m \u001b[31m77.0 MB/s\u001b[0m eta \u001b[36m0:00:00\u001b[0m\n",
            "\u001b[?25hRequirement already satisfied: scikit-learn in /usr/local/lib/python3.10/dist-packages (from fairmotion==0.0.4) (1.2.2)\n",
            "Requirement already satisfied: scipy in /usr/local/lib/python3.10/dist-packages (from fairmotion==0.0.4) (1.11.4)\n",
            "Requirement already satisfied: torch in /usr/local/lib/python3.10/dist-packages (from fairmotion==0.0.4) (2.1.0+cu118)\n",
            "Requirement already satisfied: tqdm in /usr/local/lib/python3.10/dist-packages (from fairmotion==0.0.4) (4.66.1)\n",
            "Collecting pyglet==1.5.27 (from fairmotion==0.0.4)\n",
            "  Downloading pyglet-1.5.27-py3-none-any.whl (1.1 MB)\n",
            "\u001b[2K     \u001b[90m━━━━━━━━━━━━━━━━━━━━━━━━━━━━━━━━━━━━━━━━\u001b[0m \u001b[32m1.1/1.1 MB\u001b[0m \u001b[31m74.8 MB/s\u001b[0m eta \u001b[36m0:00:00\u001b[0m\n",
            "\u001b[?25hCollecting PyOpenGL==3.1.0 (from fairmotion==0.0.4)\n",
            "  Downloading PyOpenGL-3.1.0.zip (2.2 MB)\n",
            "\u001b[2K     \u001b[90m━━━━━━━━━━━━━━━━━━━━━━━━━━━━━━━━━━━━━━━━\u001b[0m \u001b[32m2.2/2.2 MB\u001b[0m \u001b[31m101.8 MB/s\u001b[0m eta \u001b[36m0:00:00\u001b[0m\n",
            "\u001b[?25h  Preparing metadata (setup.py) ... \u001b[?25l\u001b[?25hdone\n",
            "Collecting PyOpenGL-accelerate (from fairmotion==0.0.4)\n",
            "  Downloading PyOpenGL_accelerate-3.1.7-cp310-cp310-manylinux_2_5_x86_64.manylinux1_x86_64.manylinux_2_17_x86_64.manylinux2014_x86_64.whl (2.3 MB)\n",
            "\u001b[2K     \u001b[90m━━━━━━━━━━━━━━━━━━━━━━━━━━━━━━━━━━━━━━━━\u001b[0m \u001b[32m2.3/2.3 MB\u001b[0m \u001b[31m109.2 MB/s\u001b[0m eta \u001b[36m0:00:00\u001b[0m\n",
            "\u001b[?25hCollecting freetype-py (from pyrender==0.1.39->fairmotion==0.0.4)\n",
            "  Downloading freetype_py-2.4.0-py3-none-manylinux_2_5_x86_64.manylinux1_x86_64.manylinux_2_12_x86_64.manylinux2010_x86_64.whl (1.0 MB)\n",
            "\u001b[2K     \u001b[90m━━━━━━━━━━━━━━━━━━━━━━━━━━━━━━━━━━━━━━━━\u001b[0m \u001b[32m1.0/1.0 MB\u001b[0m \u001b[31m82.1 MB/s\u001b[0m eta \u001b[36m0:00:00\u001b[0m\n",
            "\u001b[?25hRequirement already satisfied: imageio in /usr/local/lib/python3.10/dist-packages (from pyrender==0.1.39->fairmotion==0.0.4) (2.31.6)\n",
            "Requirement already satisfied: networkx in /usr/local/lib/python3.10/dist-packages (from pyrender==0.1.39->fairmotion==0.0.4) (3.2.1)\n",
            "Requirement already satisfied: six in /usr/local/lib/python3.10/dist-packages (from pyrender==0.1.39->fairmotion==0.0.4) (1.16.0)\n",
            "Collecting trimesh (from pyrender==0.1.39->fairmotion==0.0.4)\n",
            "  Downloading trimesh-4.0.5-py3-none-any.whl (688 kB)\n",
            "\u001b[2K     \u001b[90m━━━━━━━━━━━━━━━━━━━━━━━━━━━━━━━━━━━━━━━━\u001b[0m \u001b[32m688.5/688.5 kB\u001b[0m \u001b[31m67.5 MB/s\u001b[0m eta \u001b[36m0:00:00\u001b[0m\n",
            "\u001b[?25hRequirement already satisfied: click>=8.0.0 in /usr/local/lib/python3.10/dist-packages (from black->fairmotion==0.0.4) (8.1.7)\n",
            "Collecting mypy-extensions>=0.4.3 (from black->fairmotion==0.0.4)\n",
            "  Downloading mypy_extensions-1.0.0-py3-none-any.whl (4.7 kB)\n",
            "Requirement already satisfied: packaging>=22.0 in /usr/local/lib/python3.10/dist-packages (from black->fairmotion==0.0.4) (23.2)\n",
            "Collecting pathspec>=0.9.0 (from black->fairmotion==0.0.4)\n",
            "  Downloading pathspec-0.12.0-py3-none-any.whl (31 kB)\n",
            "Requirement already satisfied: platformdirs>=2 in /usr/local/lib/python3.10/dist-packages (from black->fairmotion==0.0.4) (4.0.0)\n",
            "Requirement already satisfied: tomli>=1.1.0 in /usr/local/lib/python3.10/dist-packages (from black->fairmotion==0.0.4) (2.0.1)\n",
            "Requirement already satisfied: typing-extensions>=4.0.1 in /usr/local/lib/python3.10/dist-packages (from black->fairmotion==0.0.4) (4.5.0)\n",
            "Requirement already satisfied: contourpy>=1.0.1 in /usr/local/lib/python3.10/dist-packages (from matplotlib->fairmotion==0.0.4) (1.2.0)\n",
            "Requirement already satisfied: cycler>=0.10 in /usr/local/lib/python3.10/dist-packages (from matplotlib->fairmotion==0.0.4) (0.12.1)\n",
            "Requirement already satisfied: fonttools>=4.22.0 in /usr/local/lib/python3.10/dist-packages (from matplotlib->fairmotion==0.0.4) (4.45.1)\n",
            "Requirement already satisfied: kiwisolver>=1.0.1 in /usr/local/lib/python3.10/dist-packages (from matplotlib->fairmotion==0.0.4) (1.4.5)\n",
            "Requirement already satisfied: pyparsing>=2.3.1 in /usr/local/lib/python3.10/dist-packages (from matplotlib->fairmotion==0.0.4) (3.1.1)\n",
            "Requirement already satisfied: python-dateutil>=2.7 in /usr/local/lib/python3.10/dist-packages (from matplotlib->fairmotion==0.0.4) (2.8.2)\n",
            "Requirement already satisfied: joblib>=1.1.1 in /usr/local/lib/python3.10/dist-packages (from scikit-learn->fairmotion==0.0.4) (1.3.2)\n",
            "Requirement already satisfied: threadpoolctl>=2.0.0 in /usr/local/lib/python3.10/dist-packages (from scikit-learn->fairmotion==0.0.4) (3.2.0)\n",
            "Requirement already satisfied: filelock in /usr/local/lib/python3.10/dist-packages (from torch->fairmotion==0.0.4) (3.13.1)\n",
            "Requirement already satisfied: sympy in /usr/local/lib/python3.10/dist-packages (from torch->fairmotion==0.0.4) (1.12)\n",
            "Requirement already satisfied: jinja2 in /usr/local/lib/python3.10/dist-packages (from torch->fairmotion==0.0.4) (3.1.2)\n",
            "Requirement already satisfied: fsspec in /usr/local/lib/python3.10/dist-packages (from torch->fairmotion==0.0.4) (2023.6.0)\n",
            "Requirement already satisfied: triton==2.1.0 in /usr/local/lib/python3.10/dist-packages (from torch->fairmotion==0.0.4) (2.1.0)\n",
            "Requirement already satisfied: MarkupSafe>=2.0 in /usr/local/lib/python3.10/dist-packages (from jinja2->torch->fairmotion==0.0.4) (2.1.3)\n",
            "Requirement already satisfied: mpmath>=0.19 in /usr/local/lib/python3.10/dist-packages (from sympy->torch->fairmotion==0.0.4) (1.3.0)\n",
            "Building wheels for collected packages: PyOpenGL, body_visualizer, human_body_prior\n",
            "  Building wheel for PyOpenGL (setup.py) ... \u001b[?25l\u001b[?25hdone\n",
            "  Created wheel for PyOpenGL: filename=PyOpenGL-3.1.0-py3-none-any.whl size=1745193 sha256=15e4d02b859544b66ca7756f415add57145227693d7b1b4860a59a49a1662f1c\n",
            "  Stored in directory: /root/.cache/pip/wheels/a1/3c/d2/1f9533f908d86176637521e533c6cdb2d4e48b59003b5c3f19\n",
            "  Building wheel for body_visualizer (setup.py) ... \u001b[?25l\u001b[?25hdone\n",
            "  Created wheel for body_visualizer: filename=body_visualizer-1.1.0-py3-none-any.whl size=20145 sha256=996bc54e5ccf9e76bc0294e3be3b26ccc7501ab3a1af2f4f645b230997d642ea\n",
            "  Stored in directory: /root/.cache/pip/wheels/e0/e4/80/a67d388879ec056b44413a5d32c6093004727837587724b08b\n",
            "  Building wheel for human_body_prior (setup.py) ... \u001b[?25l\u001b[?25hdone\n",
            "  Created wheel for human_body_prior: filename=human_body_prior-2.1.2.0-py3-none-any.whl size=4695314 sha256=d5298076dd0fa240d4262e329e643c0dd58902ececb37715d8576bad00fa3f84\n",
            "  Stored in directory: /root/.cache/pip/wheels/e8/69/8e/82ffb148f116f915fe5d5dc83b431dce9e68e7932a993b6d00\n",
            "Successfully built PyOpenGL body_visualizer human_body_prior\n",
            "Installing collected packages: PyOpenGL-accelerate, PyOpenGL, pyglet, human_body_prior, dataclasses, body_visualizer, trimesh, pathspec, mypy-extensions, freetype-py, pyrender, black, fairmotion\n",
            "  Attempting uninstall: PyOpenGL\n",
            "    Found existing installation: PyOpenGL 3.1.7\n",
            "    Uninstalling PyOpenGL-3.1.7:\n",
            "      Successfully uninstalled PyOpenGL-3.1.7\n",
            "  Running setup.py develop for fairmotion\n",
            "Successfully installed PyOpenGL-3.1.0 PyOpenGL-accelerate-3.1.7 black-23.11.0 body_visualizer-1.1.0 dataclasses-0.6 fairmotion-0.0.4 freetype-py-2.4.0 human_body_prior-2.1.2.0 mypy-extensions-1.0.0 pathspec-0.12.0 pyglet-1.5.27 pyrender-0.1.39 trimesh-4.0.5\n"
          ]
        },
        {
          "output_type": "display_data",
          "data": {
            "application/vnd.colab-display-data+json": {
              "pip_warning": {
                "packages": [
                  "dataclasses"
                ]
              }
            }
          },
          "metadata": {}
        }
      ]
    },
    {
      "cell_type": "code",
      "source": [
        "# https://github.com/facebookresearch/fairmotion/blob/e400e564deac93bb74ffecd9c366d76b3406e217/fairmotion/tasks/motion_prediction/README.md?plain=1#L14\n",
        "\n",
        "! python /content/fairmotion/fairmotion/tasks/motion_prediction/preprocess.py \\\n",
        "    --input-dir '/content/drive/MyDrive/7643/amass-dataset/synthetic60FPS/Synthetic_60FPS/' \\\n",
        "    --output-dir '/content/drive/MyDrive/7643/amass-dataset/preprocessing-output/' \\\n",
        "    --split-dir /content/fairmotion/fairmotion/tasks/motion_prediction/data/ \\\n",
        "    --rep aa"
      ],
      "metadata": {
        "colab": {
          "base_uri": "https://localhost:8080/"
        },
        "id": "Vn2cLz3RAYoT",
        "outputId": "70f259c6-c9ce-4d2d-ce09-7cda22227a7d"
      },
      "execution_count": 8,
      "outputs": [
        {
          "output_type": "stream",
          "name": "stdout",
          "text": [
            "[2023-12-10 22:04:37] Processing training data...\n",
            "[2023-12-10 22:56:47] Processed 60678 sequences\n",
            "[2023-12-10 22:57:08] Processing validation data...\n",
            "[2023-12-10 22:59:41] Processed 3007 sequences\n",
            "[2023-12-10 22:59:42] Processing test data...\n",
            "[2023-12-10 23:01:53] Processed 3304 sequences\n"
          ]
        }
      ]
    },
    {
      "cell_type": "code",
      "source": [
        "! pip install icecream"
      ],
      "metadata": {
        "colab": {
          "base_uri": "https://localhost:8080/"
        },
        "id": "_R9OnDkiMQTa",
        "outputId": "28b9347f-33e6-4767-8ad1-8be8f49e28f0"
      },
      "execution_count": 9,
      "outputs": [
        {
          "output_type": "stream",
          "name": "stdout",
          "text": [
            "Collecting icecream\n",
            "  Downloading icecream-2.1.3-py2.py3-none-any.whl (8.4 kB)\n",
            "Collecting colorama>=0.3.9 (from icecream)\n",
            "  Downloading colorama-0.4.6-py2.py3-none-any.whl (25 kB)\n",
            "Requirement already satisfied: pygments>=2.2.0 in /usr/local/lib/python3.10/dist-packages (from icecream) (2.16.1)\n",
            "Collecting executing>=0.3.1 (from icecream)\n",
            "  Downloading executing-2.0.1-py2.py3-none-any.whl (24 kB)\n",
            "Collecting asttokens>=2.0.1 (from icecream)\n",
            "  Downloading asttokens-2.4.1-py2.py3-none-any.whl (27 kB)\n",
            "Requirement already satisfied: six>=1.12.0 in /usr/local/lib/python3.10/dist-packages (from asttokens>=2.0.1->icecream) (1.16.0)\n",
            "Installing collected packages: executing, colorama, asttokens, icecream\n",
            "Successfully installed asttokens-2.4.1 colorama-0.4.6 executing-2.0.1 icecream-2.1.3\n"
          ]
        }
      ]
    },
    {
      "cell_type": "code",
      "source": [
        "!python /content/fairmotion/fairmotion/tasks/motion_prediction/training.py \\\n",
        "--save-model-path '/content/drive/MyDrive/7643/runs-seq2seq/' \\\n",
        "--preprocessed-path '/content/drive/MyDrive/7643/amass-dataset/preprocessing-output/aa/' \\\n",
        "--epochs 10 --architecture seq2seq \\\n",
        "--batch-size 1024 \\\n",
        "--save-model-frequency 2\n",
        "\n",
        "# --preprocessed-path '/content/drive/MyDrive/7643/Motion Prediction/' \\"
      ],
      "metadata": {
        "colab": {
          "base_uri": "https://localhost:8080/"
        },
        "id": "TEoHpLLB-uE0",
        "outputId": "af65650e-649a-4fca-f90d-2805e87cfd30"
      },
      "execution_count": null,
      "outputs": [
        {
          "output_type": "stream",
          "name": "stdout",
          "text": [
            "[2023-12-10 23:13:09] [('preprocessed_path', '/content/drive/MyDrive/7643/amass-dataset/preprocessing-output/aa/'), ('batch_size', 1024), ('shuffle', False), ('hidden_dim', 1024), ('num_layers', 1), ('save_model_path', '/content/drive/MyDrive/7643/runs-seq2seq/'), ('save_model_frequency', 2), ('epochs', 10), ('device', None), ('architecture', 'seq2seq'), ('lr', None), ('optimizer', 'sgd')]\n",
            "[2023-12-10 23:13:09] Using device: cuda\n",
            "[2023-12-10 23:13:09] Preparing dataset...\n",
            "[2023-12-10 23:13:38] Preparing eval...\n",
            "60it [05:46,  5.77s/it]\n",
            "[2023-12-10 23:19:41] Before training: Training loss 0.000664319391968178 | Validation loss 0.0006354252147427109\n",
            "[2023-12-10 23:19:41] Training model...\n",
            "[2023-12-10 23:19:42] Running epoch 0 | teacher_forcing_ratio=1.0\n",
            "60it [18:19, 18.33s/it]\n",
            "[2023-12-10 23:38:19] Training loss 0.0005134904667830892 | Validation loss 0.0005623793741210128 | Iterations 60\n",
            "[2023-12-10 23:38:56] Validation MAE: {6: 12.242192313925067, 12: 24.753242325594424, 18: 37.39589163557485, 24: 50.0813232789982}\n",
            "[2023-12-10 23:38:57] Running epoch 1 | teacher_forcing_ratio=0.8\n",
            "60it [18:19, 18.32s/it]\n",
            "[2023-12-10 23:57:33] Training loss 0.0003681552043599648 | Validation loss 0.0004682333149643516 | Iterations 60\n",
            "[2023-12-10 23:57:33] Running epoch 2 | teacher_forcing_ratio=0.6\n",
            "60it [18:18, 18.31s/it]\n",
            "[2023-12-11 00:16:09] Training loss 0.0003191236574537155 | Validation loss 0.0004158195792556718 | Iterations 60\n",
            "[2023-12-11 00:16:47] Validation MAE: {6: 10.445625125962033, 12: 20.57126267408509, 18: 30.884937886084817, 24: 41.78528534403094}\n",
            "[2023-12-11 00:16:48] Running epoch 3 | teacher_forcing_ratio=0.4\n",
            "60it [18:18, 18.31s/it]\n",
            "[2023-12-11 00:35:23] Training loss 0.00030061759299409685 | Validation loss 0.0003750060380541865 | Iterations 60\n",
            "[2023-12-11 00:35:23] Running epoch 4 | teacher_forcing_ratio=0.19999999999999996\n",
            "60it [18:19, 18.32s/it]\n",
            "[2023-12-11 00:54:00] Training loss 0.0003017928022378954 | Validation loss 0.00034073930116285963 | Iterations 60\n",
            "[2023-12-11 00:54:38] Validation MAE: {6: 9.284885067696198, 12: 18.232532045545483, 18: 27.63546262394172, 24: 37.751717821672486}\n",
            "[2023-12-11 00:54:38] Running epoch 5 | teacher_forcing_ratio=0.0\n",
            "60it [18:19, 18.32s/it]\n",
            "[2023-12-11 01:13:15] Training loss 0.0003465765179229646 | Validation loss 0.0003175932430879788 | Iterations 60\n",
            "[2023-12-11 01:13:15] Running epoch 6 | teacher_forcing_ratio=0.0\n",
            "60it [18:19, 18.32s/it]\n",
            "[2023-12-11 01:31:51] Training loss 0.00032844696042040275 | Validation loss 0.00030284312733098046 | Iterations 60\n",
            "[2023-12-11 01:32:31] Validation MAE: {6: 8.443154442048739, 12: 16.60593948643703, 18: 25.438141547688467, 24: 35.211972138278426}\n",
            "[2023-12-11 01:32:32] Running epoch 7 | teacher_forcing_ratio=0.0\n",
            "60it [18:19, 18.33s/it]\n",
            "[2023-12-11 01:51:09] Training loss 0.00031700958214791786 | Validation loss 0.00029177882691753604 | Iterations 60\n",
            "[2023-12-11 01:51:09] Running epoch 8 | teacher_forcing_ratio=0.0\n",
            "60it [18:18, 18.31s/it]\n",
            "[2023-12-11 02:09:45] Training loss 0.0003083716396800587 | Validation loss 0.00028285562129849853 | Iterations 60\n",
            "[2023-12-11 02:10:25] Validation MAE: {6: 7.950595365277689, 12: 15.773996593968977, 18: 24.39452304159897, 24: 33.9735978739583}\n",
            "[2023-12-11 02:10:25] Running epoch 9 | teacher_forcing_ratio=0.0\n",
            "38it [11:45, 18.57s/it]"
          ]
        }
      ]
    },
    {
      "cell_type": "code",
      "source": [
        "!python /content/fairmotion/fairmotion/tasks/motion_prediction/test.py \\\n",
        "--save-model-path '/content/drive/MyDrive/7643/' \\\n",
        "--preprocessed-path '/content/drive/MyDrive/7643/Motion Prediction/' \\\n",
        "--save-output-path '/content/drive/MyDrive/7643/test-output/'"
      ],
      "metadata": {
        "colab": {
          "base_uri": "https://localhost:8080/"
        },
        "id": "J2KG1Ka2-xyc",
        "outputId": "728ae451-b8c2-431b-bd4f-0d7012bdec40"
      },
      "execution_count": 4,
      "outputs": [
        {
          "output_type": "stream",
          "name": "stdout",
          "text": [
            "[2023-12-10 17:34:37] Preparing dataset\n",
            "[2023-12-10 17:34:50] Preparing model\n",
            "[2023-12-10 17:34:51] Running model\n",
            "Traceback (most recent call last):\n",
            "  File \"/content/fairmotion/fairmotion/tasks/motion_prediction/test.py\", line 228, in <module>\n",
            "    main(args)\n",
            "  File \"/content/fairmotion/fairmotion/tasks/motion_prediction/test.py\", line 149, in main\n",
            "    seqs_T, mae = test_model(\n",
            "  File \"/content/fairmotion/fairmotion/tasks/motion_prediction/test.py\", line 112, in test_model\n",
            "    pred_seqs, src_seqs, tgt_seqs = run_model(\n",
            "  File \"/content/fairmotion/fairmotion/tasks/motion_prediction/test.py\", line 46, in run_model\n",
            "    generate.generate(model, src_seq, max_len, device)\n",
            "  File \"/content/fairmotion/fairmotion/tasks/motion_prediction/generate.py\", line 43, in generate\n",
            "    outputs = model(\n",
            "  File \"/usr/local/lib/python3.10/dist-packages/torch/nn/modules/module.py\", line 1518, in _wrapped_call_impl\n",
            "    return self._call_impl(*args, **kwargs)\n",
            "  File \"/usr/local/lib/python3.10/dist-packages/torch/nn/modules/module.py\", line 1527, in _call_impl\n",
            "    return forward_call(*args, **kwargs)\n",
            "  File \"/content/fairmotion/fairmotion/models/seq2seq.py\", line 41, in forward\n",
            "    outputs = self.decoder(\n",
            "  File \"/usr/local/lib/python3.10/dist-packages/torch/nn/modules/module.py\", line 1518, in _wrapped_call_impl\n",
            "    return self._call_impl(*args, **kwargs)\n",
            "  File \"/usr/local/lib/python3.10/dist-packages/torch/nn/modules/module.py\", line 1527, in _call_impl\n",
            "    return forward_call(*args, **kwargs)\n",
            "  File \"/content/fairmotion/fairmotion/models/decoders.py\", line 81, in forward\n",
            "    outputs = torch.zeros(max_len, batch_size, self.input_dim,).to(\n",
            "KeyboardInterrupt\n",
            "^C\n"
          ]
        }
      ]
    }
  ]
}